{
 "cells": [
  {
   "cell_type": "markdown",
   "metadata": {},
   "source": [
    "# Mini Project 1\n",
    "\n",
    "The question of equality, econimic stability and how to gain the two, has in the past couple of centuries been higly debated by philosopers, such as Karl Marks (), Max Weber (), Adam Smith (), John Maynard Keynes (). This debate has not changed in recent years, and have potentieally become more debated with globalisation () and the spread of media. \n",
    "In this relation the EU has collected data from all over the world to measure equality and economic stability around the world. It is this data set that we intent to use in order to answer the question: Is there a correlation between a countrys satisfaction in certain areas of life, the peoples trust in their governments, homelessness and the help available to all social lairs.  \n",
    "\n",
    "\n",
    "\n",
    "\n",
    "\n",
    "satisfaction family life, satisfaction life general, satisafction job, satisfaction health, satisfaction living standard, \n",
    "soc causes of povertry, \n",
    "minimum living ST, financial, \n",
    "situation, \n",
    "trust in institutions, \n",
    "main povertry factors, \n",
    "help of povertry gvrmt, \n",
    "homelessness reasons, \n",
    "help poor people, \n",
    "social service use, \n",
    "social service quality, \n",
    "gender, \n",
    "\n"
   ]
  },
  {
   "cell_type": "code",
   "execution_count": null,
   "metadata": {},
   "outputs": [],
   "source": []
  },
  {
   "cell_type": "code",
   "execution_count": null,
   "metadata": {},
   "outputs": [],
   "source": [
    "import requests as rq\n",
    "import json\n",
    "import time, random\n",
    "import pandas as pd\n",
    "import seaborn as sns\n",
    "import numpy as np\n",
    "import matplotlib.pyplot as plt"
   ]
  },
  {
   "cell_type": "code",
   "execution_count": null,
   "metadata": {},
   "outputs": [],
   "source": [
    " European_data = pd.read_stata(\"ZA5237_v4-2-0.dta\")"
   ]
  },
  {
   "cell_type": "code",
   "execution_count": null,
   "metadata": {},
   "outputs": [],
   "source": [
    "print(European_data.head())"
   ]
  }
 ],
 "metadata": {
  "kernelspec": {
   "display_name": "Python 3",
   "language": "python",
   "name": "python3"
  },
  "language_info": {
   "codemirror_mode": {
    "name": "ipython",
    "version": 3
   },
   "file_extension": ".py",
   "mimetype": "text/x-python",
   "name": "python",
   "nbconvert_exporter": "python",
   "pygments_lexer": "ipython3",
   "version": "3.6.5"
  }
 },
 "nbformat": 4,
 "nbformat_minor": 2
}
